{
 "cells": [
  {
   "cell_type": "code",
   "execution_count": 1,
   "metadata": {},
   "outputs": [
    {
     "name": "stdout",
     "output_type": "stream",
     "text": [
      "5  4  3  2  1  \n",
      "4  3  2  1  \n",
      "3  2  1  \n",
      "2  1  \n",
      "1  \n"
     ]
    }
   ],
   "source": [
    "def x(y):\n",
    "    for i in range(y,0,-1):\n",
    "        for x in range(i,0,-1):\n",
    "            print(x, end=\"  \")\n",
    "        print()\n",
    "        \n",
    "x(5)"
   ]
  }
 ],
 "metadata": {
  "kernelspec": {
   "display_name": "Data_Analysis",
   "language": "python",
   "name": "python3"
  },
  "language_info": {
   "codemirror_mode": {
    "name": "ipython",
    "version": 3
   },
   "file_extension": ".py",
   "mimetype": "text/x-python",
   "name": "python",
   "nbconvert_exporter": "python",
   "pygments_lexer": "ipython3",
   "version": "3.11.5"
  },
  "orig_nbformat": 4
 },
 "nbformat": 4,
 "nbformat_minor": 2
}
